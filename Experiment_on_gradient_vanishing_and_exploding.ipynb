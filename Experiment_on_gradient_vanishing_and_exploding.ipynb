{
 "cells": [
  {
   "cell_type": "markdown",
   "metadata": {},
   "source": [
    "This is inspired by https://zhuanlan.zhihu.com/p/62850258?utm_source=wechat_session&utm_medium=social&utm_oi=907671109464358912"
   ]
  },
  {
   "cell_type": "code",
   "execution_count": 5,
   "metadata": {},
   "outputs": [],
   "source": [
    "import torch\n",
    "import math"
   ]
  },
  {
   "cell_type": "code",
   "execution_count": null,
   "metadata": {},
   "outputs": [],
   "source": []
  },
  {
   "cell_type": "code",
   "execution_count": 13,
   "metadata": {},
   "outputs": [
    {
     "data": {
      "text/plain": [
       "(tensor(0.0060), tensor(0.9422))"
      ]
     },
     "execution_count": 13,
     "metadata": {},
     "output_type": "execute_result"
    }
   ],
   "source": [
    "mean=[]\n",
    "std=[]\n",
    "\n",
    "for iteration in range(10):\n",
    "\n",
    "    x = torch.randn(512)\n",
    "    \n",
    "    for i in range(100):\n",
    "        w = torch.randn(512, 512) * math.sqrt(1 / 512)\n",
    "        x = w @ x\n",
    "\n",
    "    mean.append(x.mean())\n",
    "    std.append(x.std())\n",
    "    \n",
    "sum(mean)/len(mean), sum(std)/len(std)"
   ]
  },
  {
   "cell_type": "code",
   "execution_count": null,
   "metadata": {},
   "outputs": [],
   "source": []
  },
  {
   "cell_type": "code",
   "execution_count": 9,
   "metadata": {},
   "outputs": [
    {
     "data": {
      "text/plain": [
       "(tensor(-0.0056), tensor(0.9997))"
      ]
     },
     "execution_count": 9,
     "metadata": {},
     "output_type": "execute_result"
    }
   ],
   "source": [
    "mean=[]\n",
    "std=[]\n",
    "\n",
    "for iteration in range(10):\n",
    "\n",
    "    x = torch.randn(512)\n",
    "    \n",
    "    for i in range(50):\n",
    "        w = torch.randn(512, 200) * math.sqrt(1 / 512)\n",
    "        x = x @ w\n",
    "        w = torch.randn(200, 512) * math.sqrt(1 / 200)\n",
    "        x = x @ w\n",
    "\n",
    "    mean.append(x.mean())\n",
    "    std.append(x.std())\n",
    "    \n",
    "sum(mean)/len(mean), sum(std)/len(std)"
   ]
  },
  {
   "cell_type": "code",
   "execution_count": null,
   "metadata": {},
   "outputs": [],
   "source": []
  },
  {
   "cell_type": "code",
   "execution_count": 86,
   "metadata": {},
   "outputs": [
    {
     "data": {
      "text/plain": [
       "(tensor(0.0283), tensor(1.0852))"
      ]
     },
     "execution_count": 86,
     "metadata": {},
     "output_type": "execute_result"
    }
   ],
   "source": [
    "mean=[]\n",
    "std=[]\n",
    "\n",
    "for iteration in range(20):\n",
    "\n",
    "    x = torch.randn(100)\n",
    "    \n",
    "    for i in range(50):\n",
    "        w = torch.randn(100, 200) * math.sqrt(2 / 282) # 100*200 = 282^2\n",
    "        x = x @ w\n",
    "        w = torch.randn(200, 100) * math.sqrt(2 / 282)\n",
    "        x = x @ w\n",
    "#         print(x.std())\n",
    "\n",
    "    mean.append(x.mean())\n",
    "    std.append(x.std())\n",
    "    \n",
    "sum(mean)/len(mean), sum(std)/len(std)"
   ]
  },
  {
   "cell_type": "code",
   "execution_count": null,
   "metadata": {},
   "outputs": [],
   "source": []
  }
 ],
 "metadata": {
  "kernelspec": {
   "display_name": "Python 3",
   "language": "python",
   "name": "python3"
  },
  "language_info": {
   "codemirror_mode": {
    "name": "ipython",
    "version": 3
   },
   "file_extension": ".py",
   "mimetype": "text/x-python",
   "name": "python",
   "nbconvert_exporter": "python",
   "pygments_lexer": "ipython3",
   "version": "3.6.5"
  }
 },
 "nbformat": 4,
 "nbformat_minor": 2
}
